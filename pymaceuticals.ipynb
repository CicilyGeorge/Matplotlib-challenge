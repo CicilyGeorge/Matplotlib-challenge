{
 "cells": [
  {
   "cell_type": "markdown",
   "metadata": {},
   "source": [
    "## Observations and Insights "
   ]
  },
  {
   "cell_type": "markdown",
   "metadata": {},
   "source": []
  },
  {
   "cell_type": "code",
   "execution_count": 1,
   "metadata": {
    "ExecuteTime": {
     "end_time": "2020-10-08T17:13:07.432574Z",
     "start_time": "2020-10-08T17:13:06.327272Z"
    }
   },
   "outputs": [
    {
     "data": {
      "text/html": [
       "<div>\n",
       "<style scoped>\n",
       "    .dataframe tbody tr th:only-of-type {\n",
       "        vertical-align: middle;\n",
       "    }\n",
       "\n",
       "    .dataframe tbody tr th {\n",
       "        vertical-align: top;\n",
       "    }\n",
       "\n",
       "    .dataframe thead th {\n",
       "        text-align: right;\n",
       "    }\n",
       "</style>\n",
       "<table border=\"1\" class=\"dataframe\">\n",
       "  <thead>\n",
       "    <tr style=\"text-align: right;\">\n",
       "      <th></th>\n",
       "      <th>Mouse ID</th>\n",
       "      <th>Drug Regimen</th>\n",
       "      <th>Sex</th>\n",
       "      <th>Age_months</th>\n",
       "      <th>Weight (g)</th>\n",
       "      <th>Timepoint</th>\n",
       "      <th>Tumor Volume (mm3)</th>\n",
       "      <th>Metastatic Sites</th>\n",
       "    </tr>\n",
       "  </thead>\n",
       "  <tbody>\n",
       "    <tr>\n",
       "      <th>0</th>\n",
       "      <td>k403</td>\n",
       "      <td>Ramicane</td>\n",
       "      <td>Male</td>\n",
       "      <td>21</td>\n",
       "      <td>16</td>\n",
       "      <td>0</td>\n",
       "      <td>45.000000</td>\n",
       "      <td>0</td>\n",
       "    </tr>\n",
       "    <tr>\n",
       "      <th>1</th>\n",
       "      <td>k403</td>\n",
       "      <td>Ramicane</td>\n",
       "      <td>Male</td>\n",
       "      <td>21</td>\n",
       "      <td>16</td>\n",
       "      <td>5</td>\n",
       "      <td>38.825898</td>\n",
       "      <td>0</td>\n",
       "    </tr>\n",
       "    <tr>\n",
       "      <th>2</th>\n",
       "      <td>k403</td>\n",
       "      <td>Ramicane</td>\n",
       "      <td>Male</td>\n",
       "      <td>21</td>\n",
       "      <td>16</td>\n",
       "      <td>10</td>\n",
       "      <td>35.014271</td>\n",
       "      <td>1</td>\n",
       "    </tr>\n",
       "    <tr>\n",
       "      <th>3</th>\n",
       "      <td>k403</td>\n",
       "      <td>Ramicane</td>\n",
       "      <td>Male</td>\n",
       "      <td>21</td>\n",
       "      <td>16</td>\n",
       "      <td>15</td>\n",
       "      <td>34.223992</td>\n",
       "      <td>1</td>\n",
       "    </tr>\n",
       "    <tr>\n",
       "      <th>4</th>\n",
       "      <td>k403</td>\n",
       "      <td>Ramicane</td>\n",
       "      <td>Male</td>\n",
       "      <td>21</td>\n",
       "      <td>16</td>\n",
       "      <td>20</td>\n",
       "      <td>32.997729</td>\n",
       "      <td>1</td>\n",
       "    </tr>\n",
       "  </tbody>\n",
       "</table>\n",
       "</div>"
      ],
      "text/plain": [
       "  Mouse ID Drug Regimen   Sex  Age_months  Weight (g)  Timepoint  \\\n",
       "0     k403     Ramicane  Male          21          16          0   \n",
       "1     k403     Ramicane  Male          21          16          5   \n",
       "2     k403     Ramicane  Male          21          16         10   \n",
       "3     k403     Ramicane  Male          21          16         15   \n",
       "4     k403     Ramicane  Male          21          16         20   \n",
       "\n",
       "   Tumor Volume (mm3)  Metastatic Sites  \n",
       "0           45.000000                 0  \n",
       "1           38.825898                 0  \n",
       "2           35.014271                 1  \n",
       "3           34.223992                 1  \n",
       "4           32.997729                 1  "
      ]
     },
     "execution_count": 1,
     "metadata": {},
     "output_type": "execute_result"
    }
   ],
   "source": [
    "%matplotlib inline\n",
    "\n",
    "# Dependencies and Setup\n",
    "import matplotlib.pyplot as plt\n",
    "import pandas as pd\n",
    "import scipy.stats as st\n",
    "import numpy as np\n",
    "\n",
    "# Study data files\n",
    "mouse_metadata_path = \"data/Mouse_metadata.csv\"\n",
    "study_results_path = \"data/Study_results.csv\"\n",
    "\n",
    "# Reading the mouse data and the study results\n",
    "mouse_metadata = pd.read_csv(mouse_metadata_path)\n",
    "study_results = pd.read_csv(study_results_path)\n",
    "\n",
    "# Combining the data into a single dataset\n",
    "combined_data = pd.merge(mouse_metadata,study_results, how='left', on='Mouse ID')\n",
    "\n",
    "# Displaying the data table for preview\n",
    "combined_data.head()"
   ]
  },
  {
   "cell_type": "code",
   "execution_count": 2,
   "metadata": {
    "ExecuteTime": {
     "end_time": "2020-10-08T17:13:07.448564Z",
     "start_time": "2020-10-08T17:13:07.434573Z"
    }
   },
   "outputs": [
    {
     "data": {
      "text/html": [
       "<div>\n",
       "<style scoped>\n",
       "    .dataframe tbody tr th:only-of-type {\n",
       "        vertical-align: middle;\n",
       "    }\n",
       "\n",
       "    .dataframe tbody tr th {\n",
       "        vertical-align: top;\n",
       "    }\n",
       "\n",
       "    .dataframe thead th {\n",
       "        text-align: right;\n",
       "    }\n",
       "</style>\n",
       "<table border=\"1\" class=\"dataframe\">\n",
       "  <thead>\n",
       "    <tr style=\"text-align: right;\">\n",
       "      <th></th>\n",
       "      <th>Total Number of Mouse</th>\n",
       "    </tr>\n",
       "  </thead>\n",
       "  <tbody>\n",
       "    <tr>\n",
       "      <th>0</th>\n",
       "      <td>249</td>\n",
       "    </tr>\n",
       "  </tbody>\n",
       "</table>\n",
       "</div>"
      ],
      "text/plain": [
       "   Total Number of Mouse\n",
       "0                    249"
      ]
     },
     "execution_count": 2,
     "metadata": {},
     "output_type": "execute_result"
    }
   ],
   "source": [
    "# Checking the number of mice.\n",
    "mouse_count = pd.DataFrame({'Total Number of Mouse': [combined_data['Mouse ID'].nunique()]})\n",
    "mouse_count"
   ]
  },
  {
   "cell_type": "code",
   "execution_count": 3,
   "metadata": {
    "ExecuteTime": {
     "end_time": "2020-10-08T17:13:07.544503Z",
     "start_time": "2020-10-08T17:13:07.450562Z"
    }
   },
   "outputs": [
    {
     "name": "stdout",
     "output_type": "stream",
     "text": [
      "List of Mouse IDs Duplicated: ['g989']\n"
     ]
    }
   ],
   "source": [
    "# Getting the duplicate mice by ID number that shows up for Mouse ID and Timepoint. \n",
    "duplicated_mouse = combined_data.loc[combined_data.duplicated(subset=['Mouse ID', 'Timepoint'], keep=False), \"Mouse ID\"].unique() \n",
    "print(f\"List of Mouse IDs Duplicated: {duplicated_mouse}\")"
   ]
  },
  {
   "cell_type": "code",
   "execution_count": 4,
   "metadata": {
    "ExecuteTime": {
     "end_time": "2020-10-08T17:13:07.637770Z",
     "start_time": "2020-10-08T17:13:07.546503Z"
    }
   },
   "outputs": [
    {
     "data": {
      "text/html": [
       "<div>\n",
       "<style scoped>\n",
       "    .dataframe tbody tr th:only-of-type {\n",
       "        vertical-align: middle;\n",
       "    }\n",
       "\n",
       "    .dataframe tbody tr th {\n",
       "        vertical-align: top;\n",
       "    }\n",
       "\n",
       "    .dataframe thead th {\n",
       "        text-align: right;\n",
       "    }\n",
       "</style>\n",
       "<table border=\"1\" class=\"dataframe\">\n",
       "  <thead>\n",
       "    <tr style=\"text-align: right;\">\n",
       "      <th></th>\n",
       "      <th>Mouse ID</th>\n",
       "      <th>Drug Regimen</th>\n",
       "      <th>Sex</th>\n",
       "      <th>Age_months</th>\n",
       "      <th>Weight (g)</th>\n",
       "      <th>Timepoint</th>\n",
       "      <th>Tumor Volume (mm3)</th>\n",
       "      <th>Metastatic Sites</th>\n",
       "    </tr>\n",
       "  </thead>\n",
       "  <tbody>\n",
       "    <tr>\n",
       "      <th>908</th>\n",
       "      <td>g989</td>\n",
       "      <td>Propriva</td>\n",
       "      <td>Female</td>\n",
       "      <td>21</td>\n",
       "      <td>26</td>\n",
       "      <td>0</td>\n",
       "      <td>45.000000</td>\n",
       "      <td>0</td>\n",
       "    </tr>\n",
       "    <tr>\n",
       "      <th>909</th>\n",
       "      <td>g989</td>\n",
       "      <td>Propriva</td>\n",
       "      <td>Female</td>\n",
       "      <td>21</td>\n",
       "      <td>26</td>\n",
       "      <td>0</td>\n",
       "      <td>45.000000</td>\n",
       "      <td>0</td>\n",
       "    </tr>\n",
       "    <tr>\n",
       "      <th>910</th>\n",
       "      <td>g989</td>\n",
       "      <td>Propriva</td>\n",
       "      <td>Female</td>\n",
       "      <td>21</td>\n",
       "      <td>26</td>\n",
       "      <td>5</td>\n",
       "      <td>48.786801</td>\n",
       "      <td>0</td>\n",
       "    </tr>\n",
       "    <tr>\n",
       "      <th>911</th>\n",
       "      <td>g989</td>\n",
       "      <td>Propriva</td>\n",
       "      <td>Female</td>\n",
       "      <td>21</td>\n",
       "      <td>26</td>\n",
       "      <td>5</td>\n",
       "      <td>47.570392</td>\n",
       "      <td>0</td>\n",
       "    </tr>\n",
       "    <tr>\n",
       "      <th>912</th>\n",
       "      <td>g989</td>\n",
       "      <td>Propriva</td>\n",
       "      <td>Female</td>\n",
       "      <td>21</td>\n",
       "      <td>26</td>\n",
       "      <td>10</td>\n",
       "      <td>51.745156</td>\n",
       "      <td>0</td>\n",
       "    </tr>\n",
       "    <tr>\n",
       "      <th>913</th>\n",
       "      <td>g989</td>\n",
       "      <td>Propriva</td>\n",
       "      <td>Female</td>\n",
       "      <td>21</td>\n",
       "      <td>26</td>\n",
       "      <td>10</td>\n",
       "      <td>49.880528</td>\n",
       "      <td>0</td>\n",
       "    </tr>\n",
       "    <tr>\n",
       "      <th>914</th>\n",
       "      <td>g989</td>\n",
       "      <td>Propriva</td>\n",
       "      <td>Female</td>\n",
       "      <td>21</td>\n",
       "      <td>26</td>\n",
       "      <td>15</td>\n",
       "      <td>51.325852</td>\n",
       "      <td>1</td>\n",
       "    </tr>\n",
       "    <tr>\n",
       "      <th>915</th>\n",
       "      <td>g989</td>\n",
       "      <td>Propriva</td>\n",
       "      <td>Female</td>\n",
       "      <td>21</td>\n",
       "      <td>26</td>\n",
       "      <td>15</td>\n",
       "      <td>53.442020</td>\n",
       "      <td>0</td>\n",
       "    </tr>\n",
       "    <tr>\n",
       "      <th>916</th>\n",
       "      <td>g989</td>\n",
       "      <td>Propriva</td>\n",
       "      <td>Female</td>\n",
       "      <td>21</td>\n",
       "      <td>26</td>\n",
       "      <td>20</td>\n",
       "      <td>55.326122</td>\n",
       "      <td>1</td>\n",
       "    </tr>\n",
       "    <tr>\n",
       "      <th>917</th>\n",
       "      <td>g989</td>\n",
       "      <td>Propriva</td>\n",
       "      <td>Female</td>\n",
       "      <td>21</td>\n",
       "      <td>26</td>\n",
       "      <td>20</td>\n",
       "      <td>54.657650</td>\n",
       "      <td>1</td>\n",
       "    </tr>\n",
       "    <tr>\n",
       "      <th>918</th>\n",
       "      <td>g989</td>\n",
       "      <td>Propriva</td>\n",
       "      <td>Female</td>\n",
       "      <td>21</td>\n",
       "      <td>26</td>\n",
       "      <td>25</td>\n",
       "      <td>56.045564</td>\n",
       "      <td>1</td>\n",
       "    </tr>\n",
       "    <tr>\n",
       "      <th>919</th>\n",
       "      <td>g989</td>\n",
       "      <td>Propriva</td>\n",
       "      <td>Female</td>\n",
       "      <td>21</td>\n",
       "      <td>26</td>\n",
       "      <td>30</td>\n",
       "      <td>59.082294</td>\n",
       "      <td>1</td>\n",
       "    </tr>\n",
       "    <tr>\n",
       "      <th>920</th>\n",
       "      <td>g989</td>\n",
       "      <td>Propriva</td>\n",
       "      <td>Female</td>\n",
       "      <td>21</td>\n",
       "      <td>26</td>\n",
       "      <td>35</td>\n",
       "      <td>62.570880</td>\n",
       "      <td>2</td>\n",
       "    </tr>\n",
       "  </tbody>\n",
       "</table>\n",
       "</div>"
      ],
      "text/plain": [
       "    Mouse ID Drug Regimen     Sex  Age_months  Weight (g)  Timepoint  \\\n",
       "908     g989     Propriva  Female          21          26          0   \n",
       "909     g989     Propriva  Female          21          26          0   \n",
       "910     g989     Propriva  Female          21          26          5   \n",
       "911     g989     Propriva  Female          21          26          5   \n",
       "912     g989     Propriva  Female          21          26         10   \n",
       "913     g989     Propriva  Female          21          26         10   \n",
       "914     g989     Propriva  Female          21          26         15   \n",
       "915     g989     Propriva  Female          21          26         15   \n",
       "916     g989     Propriva  Female          21          26         20   \n",
       "917     g989     Propriva  Female          21          26         20   \n",
       "918     g989     Propriva  Female          21          26         25   \n",
       "919     g989     Propriva  Female          21          26         30   \n",
       "920     g989     Propriva  Female          21          26         35   \n",
       "\n",
       "     Tumor Volume (mm3)  Metastatic Sites  \n",
       "908           45.000000                 0  \n",
       "909           45.000000                 0  \n",
       "910           48.786801                 0  \n",
       "911           47.570392                 0  \n",
       "912           51.745156                 0  \n",
       "913           49.880528                 0  \n",
       "914           51.325852                 1  \n",
       "915           53.442020                 0  \n",
       "916           55.326122                 1  \n",
       "917           54.657650                 1  \n",
       "918           56.045564                 1  \n",
       "919           59.082294                 1  \n",
       "920           62.570880                 2  "
      ]
     },
     "execution_count": 4,
     "metadata": {},
     "output_type": "execute_result"
    }
   ],
   "source": [
    "# Getting all the data for the duplicate mouse ID. \n",
    "duplicate_data = combined_data.loc[combined_data['Mouse ID'].isin(duplicated_mouse)==True]\n",
    "duplicate_data"
   ]
  },
  {
   "cell_type": "code",
   "execution_count": 5,
   "metadata": {
    "ExecuteTime": {
     "end_time": "2020-10-08T17:13:07.795007Z",
     "start_time": "2020-10-08T17:13:07.638779Z"
    }
   },
   "outputs": [
    {
     "name": "stdout",
     "output_type": "stream",
     "text": [
      "The number of rows for duplicate mouse in Clean Data = 0\n"
     ]
    }
   ],
   "source": [
    "# Creating a clean DataFrame by dropping the duplicate mouse by its ID.\n",
    "clean_data = combined_data.loc[combined_data['Mouse ID'].isin(duplicated_mouse)==False]\n",
    "\n",
    "# Checking for any data of the duplicated mouse in the clean DataFrame\n",
    "duplicate_count = len(clean_data.loc[clean_data['Mouse ID'].isin(duplicated_mouse)==True])\n",
    "print(f\"The number of rows for duplicate mouse in Clean Data = {duplicate_count}\")"
   ]
  },
  {
   "cell_type": "code",
   "execution_count": 6,
   "metadata": {
    "ExecuteTime": {
     "end_time": "2020-10-08T17:13:07.969207Z",
     "start_time": "2020-10-08T17:13:07.797006Z"
    }
   },
   "outputs": [
    {
     "data": {
      "text/html": [
       "<div>\n",
       "<style scoped>\n",
       "    .dataframe tbody tr th:only-of-type {\n",
       "        vertical-align: middle;\n",
       "    }\n",
       "\n",
       "    .dataframe tbody tr th {\n",
       "        vertical-align: top;\n",
       "    }\n",
       "\n",
       "    .dataframe thead th {\n",
       "        text-align: right;\n",
       "    }\n",
       "</style>\n",
       "<table border=\"1\" class=\"dataframe\">\n",
       "  <thead>\n",
       "    <tr style=\"text-align: right;\">\n",
       "      <th></th>\n",
       "      <th>Total Number of Mouse</th>\n",
       "    </tr>\n",
       "  </thead>\n",
       "  <tbody>\n",
       "    <tr>\n",
       "      <th>0</th>\n",
       "      <td>248</td>\n",
       "    </tr>\n",
       "  </tbody>\n",
       "</table>\n",
       "</div>"
      ],
      "text/plain": [
       "   Total Number of Mouse\n",
       "0                    248"
      ]
     },
     "execution_count": 6,
     "metadata": {},
     "output_type": "execute_result"
    }
   ],
   "source": [
    "# Checking the number of mice in the clean DataFrame.\n",
    "mouse_count2 = pd.DataFrame({'Total Number of Mouse': [clean_data['Mouse ID'].nunique()]})\n",
    "mouse_count2"
   ]
  },
  {
   "cell_type": "markdown",
   "metadata": {},
   "source": [
    "## Summary Statistics"
   ]
  },
  {
   "cell_type": "code",
   "execution_count": 7,
   "metadata": {
    "ExecuteTime": {
     "end_time": "2020-10-08T17:13:08.124691Z",
     "start_time": "2020-10-08T17:13:07.972199Z"
    }
   },
   "outputs": [
    {
     "name": "stdout",
     "output_type": "stream",
     "text": [
      "\n",
      "\tSummary Statistics of the tumor volume for each regimen\n"
     ]
    },
    {
     "data": {
      "text/html": [
       "<div>\n",
       "<style scoped>\n",
       "    .dataframe tbody tr th:only-of-type {\n",
       "        vertical-align: middle;\n",
       "    }\n",
       "\n",
       "    .dataframe tbody tr th {\n",
       "        vertical-align: top;\n",
       "    }\n",
       "\n",
       "    .dataframe thead th {\n",
       "        text-align: right;\n",
       "    }\n",
       "</style>\n",
       "<table border=\"1\" class=\"dataframe\">\n",
       "  <thead>\n",
       "    <tr style=\"text-align: right;\">\n",
       "      <th></th>\n",
       "      <th>Mean</th>\n",
       "      <th>Median</th>\n",
       "      <th>Variance</th>\n",
       "      <th>Standard Deviation</th>\n",
       "      <th>SEM</th>\n",
       "    </tr>\n",
       "    <tr>\n",
       "      <th>Drug Regimen</th>\n",
       "      <th></th>\n",
       "      <th></th>\n",
       "      <th></th>\n",
       "      <th></th>\n",
       "      <th></th>\n",
       "    </tr>\n",
       "  </thead>\n",
       "  <tbody>\n",
       "    <tr>\n",
       "      <th>Capomulin</th>\n",
       "      <td>40.68</td>\n",
       "      <td>41.56</td>\n",
       "      <td>24.95</td>\n",
       "      <td>4.99</td>\n",
       "      <td>0.33</td>\n",
       "    </tr>\n",
       "    <tr>\n",
       "      <th>Ceftamin</th>\n",
       "      <td>52.59</td>\n",
       "      <td>51.78</td>\n",
       "      <td>39.29</td>\n",
       "      <td>6.27</td>\n",
       "      <td>0.47</td>\n",
       "    </tr>\n",
       "    <tr>\n",
       "      <th>Infubinol</th>\n",
       "      <td>52.88</td>\n",
       "      <td>51.82</td>\n",
       "      <td>43.13</td>\n",
       "      <td>6.57</td>\n",
       "      <td>0.49</td>\n",
       "    </tr>\n",
       "    <tr>\n",
       "      <th>Ketapril</th>\n",
       "      <td>55.24</td>\n",
       "      <td>53.70</td>\n",
       "      <td>68.55</td>\n",
       "      <td>8.28</td>\n",
       "      <td>0.60</td>\n",
       "    </tr>\n",
       "    <tr>\n",
       "      <th>Naftisol</th>\n",
       "      <td>54.33</td>\n",
       "      <td>52.51</td>\n",
       "      <td>66.17</td>\n",
       "      <td>8.13</td>\n",
       "      <td>0.60</td>\n",
       "    </tr>\n",
       "    <tr>\n",
       "      <th>Placebo</th>\n",
       "      <td>54.03</td>\n",
       "      <td>52.29</td>\n",
       "      <td>61.17</td>\n",
       "      <td>7.82</td>\n",
       "      <td>0.58</td>\n",
       "    </tr>\n",
       "    <tr>\n",
       "      <th>Propriva</th>\n",
       "      <td>52.32</td>\n",
       "      <td>50.45</td>\n",
       "      <td>43.85</td>\n",
       "      <td>6.62</td>\n",
       "      <td>0.54</td>\n",
       "    </tr>\n",
       "    <tr>\n",
       "      <th>Ramicane</th>\n",
       "      <td>40.22</td>\n",
       "      <td>40.67</td>\n",
       "      <td>23.49</td>\n",
       "      <td>4.85</td>\n",
       "      <td>0.32</td>\n",
       "    </tr>\n",
       "    <tr>\n",
       "      <th>Stelasyn</th>\n",
       "      <td>54.23</td>\n",
       "      <td>52.43</td>\n",
       "      <td>59.45</td>\n",
       "      <td>7.71</td>\n",
       "      <td>0.57</td>\n",
       "    </tr>\n",
       "    <tr>\n",
       "      <th>Zoniferol</th>\n",
       "      <td>53.24</td>\n",
       "      <td>51.82</td>\n",
       "      <td>48.53</td>\n",
       "      <td>6.97</td>\n",
       "      <td>0.52</td>\n",
       "    </tr>\n",
       "  </tbody>\n",
       "</table>\n",
       "</div>"
      ],
      "text/plain": [
       "               Mean Median Variance Standard Deviation   SEM\n",
       "Drug Regimen                                                \n",
       "Capomulin     40.68  41.56    24.95               4.99  0.33\n",
       "Ceftamin      52.59  51.78    39.29               6.27  0.47\n",
       "Infubinol     52.88  51.82    43.13               6.57  0.49\n",
       "Ketapril      55.24  53.70    68.55               8.28  0.60\n",
       "Naftisol      54.33  52.51    66.17               8.13  0.60\n",
       "Placebo       54.03  52.29    61.17               7.82  0.58\n",
       "Propriva      52.32  50.45    43.85               6.62  0.54\n",
       "Ramicane      40.22  40.67    23.49               4.85  0.32\n",
       "Stelasyn      54.23  52.43    59.45               7.71  0.57\n",
       "Zoniferol     53.24  51.82    48.53               6.97  0.52"
      ]
     },
     "execution_count": 7,
     "metadata": {},
     "output_type": "execute_result"
    }
   ],
   "source": [
    "# Generating a summary statistics table of mean, median, variance, standard deviation, and SEM of the tumor volume for each regimen\n",
    "\n",
    "# Creating a groupby object on Drug Regimen with Tumor Volume (mm3)\n",
    "treatment_group = clean_data.groupby('Drug Regimen')['Tumor Volume (mm3)']\n",
    "\n",
    "# Applying the statistics and assigning into variables\n",
    "volume_mean = treatment_group.mean()\n",
    "volume_median = treatment_group.median()\n",
    "volume_var = treatment_group.var()\n",
    "volume_std = treatment_group.std()\n",
    "volume_sem = treatment_group.sem()\n",
    "\n",
    "\n",
    "# Creating multiple series and putting them all together at the end.\n",
    "volume_summary = pd.DataFrame({\"Mean\": volume_mean,\n",
    "                               \"Median\": volume_median,\n",
    "                               \"Variance\": volume_var,\n",
    "                               \"Standard Deviation\": volume_std,\n",
    "                               \"SEM\": volume_sem\n",
    "                              })\n",
    "# Formating the data\n",
    "volume_summary = volume_summary.applymap(\"{0:.2f}\".format)\n",
    "\n",
    "print(\"\\n\\tSummary Statistics of the tumor volume for each regimen\")\n",
    "volume_summary"
   ]
  },
  {
   "cell_type": "code",
   "execution_count": 8,
   "metadata": {
    "ExecuteTime": {
     "end_time": "2020-10-08T17:13:08.266604Z",
     "start_time": "2020-10-08T17:13:08.126697Z"
    }
   },
   "outputs": [
    {
     "data": {
      "text/html": [
       "<div>\n",
       "<style scoped>\n",
       "    .dataframe tbody tr th:only-of-type {\n",
       "        vertical-align: middle;\n",
       "    }\n",
       "\n",
       "    .dataframe tbody tr th {\n",
       "        vertical-align: top;\n",
       "    }\n",
       "\n",
       "    .dataframe thead tr th {\n",
       "        text-align: left;\n",
       "    }\n",
       "\n",
       "    .dataframe thead tr:last-of-type th {\n",
       "        text-align: right;\n",
       "    }\n",
       "</style>\n",
       "<table border=\"1\" class=\"dataframe\">\n",
       "  <thead>\n",
       "    <tr>\n",
       "      <th></th>\n",
       "      <th colspan=\"5\" halign=\"left\">Tumor Volume (mm3)</th>\n",
       "    </tr>\n",
       "    <tr>\n",
       "      <th></th>\n",
       "      <th>Mean</th>\n",
       "      <th>Median</th>\n",
       "      <th>Variance</th>\n",
       "      <th>Standard Deviation</th>\n",
       "      <th>SEM</th>\n",
       "    </tr>\n",
       "    <tr>\n",
       "      <th>Drug Regimen</th>\n",
       "      <th></th>\n",
       "      <th></th>\n",
       "      <th></th>\n",
       "      <th></th>\n",
       "      <th></th>\n",
       "    </tr>\n",
       "  </thead>\n",
       "  <tbody>\n",
       "    <tr>\n",
       "      <th>Capomulin</th>\n",
       "      <td>40.68</td>\n",
       "      <td>41.56</td>\n",
       "      <td>24.95</td>\n",
       "      <td>4.99</td>\n",
       "      <td>0.33</td>\n",
       "    </tr>\n",
       "    <tr>\n",
       "      <th>Ceftamin</th>\n",
       "      <td>52.59</td>\n",
       "      <td>51.78</td>\n",
       "      <td>39.29</td>\n",
       "      <td>6.27</td>\n",
       "      <td>0.47</td>\n",
       "    </tr>\n",
       "    <tr>\n",
       "      <th>Infubinol</th>\n",
       "      <td>52.88</td>\n",
       "      <td>51.82</td>\n",
       "      <td>43.13</td>\n",
       "      <td>6.57</td>\n",
       "      <td>0.49</td>\n",
       "    </tr>\n",
       "    <tr>\n",
       "      <th>Ketapril</th>\n",
       "      <td>55.24</td>\n",
       "      <td>53.70</td>\n",
       "      <td>68.55</td>\n",
       "      <td>8.28</td>\n",
       "      <td>0.60</td>\n",
       "    </tr>\n",
       "    <tr>\n",
       "      <th>Naftisol</th>\n",
       "      <td>54.33</td>\n",
       "      <td>52.51</td>\n",
       "      <td>66.17</td>\n",
       "      <td>8.13</td>\n",
       "      <td>0.60</td>\n",
       "    </tr>\n",
       "    <tr>\n",
       "      <th>Placebo</th>\n",
       "      <td>54.03</td>\n",
       "      <td>52.29</td>\n",
       "      <td>61.17</td>\n",
       "      <td>7.82</td>\n",
       "      <td>0.58</td>\n",
       "    </tr>\n",
       "    <tr>\n",
       "      <th>Propriva</th>\n",
       "      <td>52.32</td>\n",
       "      <td>50.45</td>\n",
       "      <td>43.85</td>\n",
       "      <td>6.62</td>\n",
       "      <td>0.54</td>\n",
       "    </tr>\n",
       "    <tr>\n",
       "      <th>Ramicane</th>\n",
       "      <td>40.22</td>\n",
       "      <td>40.67</td>\n",
       "      <td>23.49</td>\n",
       "      <td>4.85</td>\n",
       "      <td>0.32</td>\n",
       "    </tr>\n",
       "    <tr>\n",
       "      <th>Stelasyn</th>\n",
       "      <td>54.23</td>\n",
       "      <td>52.43</td>\n",
       "      <td>59.45</td>\n",
       "      <td>7.71</td>\n",
       "      <td>0.57</td>\n",
       "    </tr>\n",
       "    <tr>\n",
       "      <th>Zoniferol</th>\n",
       "      <td>53.24</td>\n",
       "      <td>51.82</td>\n",
       "      <td>48.53</td>\n",
       "      <td>6.97</td>\n",
       "      <td>0.52</td>\n",
       "    </tr>\n",
       "  </tbody>\n",
       "</table>\n",
       "</div>"
      ],
      "text/plain": [
       "             Tumor Volume (mm3)                                         \n",
       "                           Mean Median Variance Standard Deviation   SEM\n",
       "Drug Regimen                                                            \n",
       "Capomulin                 40.68  41.56    24.95               4.99  0.33\n",
       "Ceftamin                  52.59  51.78    39.29               6.27  0.47\n",
       "Infubinol                 52.88  51.82    43.13               6.57  0.49\n",
       "Ketapril                  55.24  53.70    68.55               8.28  0.60\n",
       "Naftisol                  54.33  52.51    66.17               8.13  0.60\n",
       "Placebo                   54.03  52.29    61.17               7.82  0.58\n",
       "Propriva                  52.32  50.45    43.85               6.62  0.54\n",
       "Ramicane                  40.22  40.67    23.49               4.85  0.32\n",
       "Stelasyn                  54.23  52.43    59.45               7.71  0.57\n",
       "Zoniferol                 53.24  51.82    48.53               6.97  0.52"
      ]
     },
     "execution_count": 8,
     "metadata": {},
     "output_type": "execute_result"
    }
   ],
   "source": [
    "# Generating a summary statistics table of mean, median, variance, standard deviation, and SEM of the tumor volume for each regimen\n",
    "# This method produces everything in a single groupby function\n",
    "volume_df = clean_data.groupby('Drug Regimen').agg({'Tumor Volume (mm3)':[('Mean', 'mean'), \n",
    "                                                                          ('Median', 'median'), \n",
    "                                                                          ('Variance', 'var'), \n",
    "                                                                          ('Standard Deviation', 'std'), \n",
    "                                                                          ('SEM', 'sem')]})\n",
    "# Formating the data\n",
    "volume_df = volume_df.applymap(\"{0:.2f}\".format)\n",
    "\n",
    "volume_df"
   ]
  },
  {
   "cell_type": "markdown",
   "metadata": {},
   "source": [
    "## Bar and Pie Charts"
   ]
  },
  {
   "cell_type": "code",
   "execution_count": 9,
   "metadata": {
    "ExecuteTime": {
     "end_time": "2020-10-08T17:13:08.376025Z",
     "start_time": "2020-10-08T17:13:08.267603Z"
    }
   },
   "outputs": [],
   "source": [
    "# Customizing the default style in Matplotlib rc file\n",
    "plt.rcParams.update({'font.size': 12})"
   ]
  },
  {
   "cell_type": "code",
   "execution_count": 10,
   "metadata": {
    "ExecuteTime": {
     "end_time": "2020-10-08T17:13:08.753448Z",
     "start_time": "2020-10-08T17:13:08.377810Z"
    }
   },
   "outputs": [
    {
     "data": {
      "image/png": "[encoded data removed]",
      "text/plain": [
       "<Figure size 864x288 with 1 Axes>"
      ]
     },
     "metadata": {
      "needs_background": "light"
     },
     "output_type": "display_data"
    }
   ],
   "source": [
    "# Generate a bar plot showing the total number of mice for each treatment throughout the course of the study using pandas. \n",
    "\n",
    "# Creating a Data Frame for total number of mice for each treatment\n",
    "drug_test_count = pd.DataFrame(clean_data['Drug Regimen'].value_counts()).reset_index()\n",
    "# Renaming the columns of the Data Frame\n",
    "drug_test_count = drug_test_count.rename(columns={'index': 'Drug Regimen', 'Drug Regimen': 'Mouse Count'})\n",
    "\n",
    "# Creating a bar plot from the Data Frame\n",
    "ax = drug_test_count.plot(kind=\"bar\",\n",
    "                          figsize=(12,4),\n",
    "                          alpha=0.8,\n",
    "                          legend=False,\n",
    "                          ylim=(100, max(drug_test_count['Mouse Count'])+20)\n",
    "                         )\n",
    "\n",
    "# Adding title and labels to the plot \n",
    "ax.set_title(\"Total Drug Tests on Mice\", fontsize=14)\n",
    "ax.set_xlabel(\"Drug Regimen\")\n",
    "ax.set_ylabel(\"Test Count\")\n",
    "ax.set_xticklabels(drug_test_count['Drug Regimen'], rotation=45)\n",
    "\n",
    "# Adding grid lines across y axis to the chart\n",
    "ax.yaxis.grid(color=\"grey\", alpha=0.25)\n",
    "\n",
    "# Removing the top and right spines\n",
    "ax.spines['right'].set_visible(False) \n",
    "ax.spines['top'].set_visible(False)\n",
    "\n",
    "# Print our chart to the screen\n",
    "plt.show()"
   ]
  },
  {
   "cell_type": "code",
   "execution_count": 11,
   "metadata": {
    "ExecuteTime": {
     "end_time": "2020-10-08T17:13:08.945344Z",
     "start_time": "2020-10-08T17:13:08.755446Z"
    }
   },
   "outputs": [
    {
     "data": {
      "image/png": "[encoded data removed]",
      "text/plain": [
       "<Figure size 864x288 with 1 Axes>"
      ]
     },
     "metadata": {
      "needs_background": "light"
     },
     "output_type": "display_data"
    }
   ],
   "source": [
    "# Generate a bar plot showing the total number of mice for each treatment throughout the course of the study using pyplot.\n",
    "\n",
    "# Creating a list(Series) from the drug_test_count Data Frame for y values\n",
    "test_count = drug_test_count['Mouse Count']\n",
    "\n",
    "# Creating an array to mark the x axis header locations \n",
    "x_axis = np.arange(len(drug_test_count))\n",
    "\n",
    "# Setting the figure size\n",
    "plt.figure(figsize=(12,4))\n",
    "\n",
    "# Creating a bar plot with the lists of x and y values\n",
    "plt.bar(x_axis, test_count, alpha=0.8, width=.5)\n",
    "\n",
    "# Create the ticks(headers) for our bar chart's x axis\n",
    "tick_locations = [value for value in x_axis]\n",
    "plt.xticks(tick_locations, drug_test_count['Drug Regimen'], rotation=45)\n",
    "\n",
    "# Adding title, labels and axis limits to the plot \n",
    "plt.title(\"Total Drug Tests on Mice\", fontsize=14)\n",
    "plt.xlabel(\"Drug Regimen\")\n",
    "plt.ylabel(\"Test Count\")\n",
    "plt.xlim(-0.5, len(x_axis)-0.5)\n",
    "plt.ylim(100, max(drug_test_count['Mouse Count'])+20)\n",
    "\n",
    "# Adding grid lines across y axis to the chart\n",
    "plt.grid(axis='y', color=\"grey\", alpha=0.25)\n",
    "\n",
    "# Removing the top and right spines\n",
    "plt.rcParams['axes.spines.right'] = False\n",
    "plt.rcParams['axes.spines.top'] = False\n",
    "\n",
    "# Print our chart to the screen\n",
    "plt.show()"
   ]
  },
  {
   "cell_type": "code",
   "execution_count": 12,
   "metadata": {
    "ExecuteTime": {
     "end_time": "2020-10-08T17:13:09.025281Z",
     "start_time": "2020-10-08T17:13:08.947339Z"
    }
   },
   "outputs": [
    {
     "data": {
      "image/png": "[encoded data removed]",
      "text/plain": [
       "<Figure size 360x360 with 1 Axes>"
      ]
     },
     "metadata": {},
     "output_type": "display_data"
    }
   ],
   "source": [
    "# Generate a pie plot showing the distribution of female versus male mice using pandas\n",
    "\n",
    "# Creating a Data Frame for the distribution of each Gender of mice\n",
    "gender_data = pd.DataFrame(clean_data['Sex'].value_counts()).reset_index()\n",
    "\n",
    "# Renaming the Data Frame Column names\n",
    "gender_data = gender_data.rename(columns={'index': 'Sex', 'Sex': 'Mouse Count'})\n",
    "\n",
    "# Set the index of this new dataframe to be the Sex\n",
    "gender_data = gender_data.set_index('Sex')\n",
    "\n",
    "# Creating a pie plot from the Data Frame\n",
    "ax = gender_data.plot(kind='pie',\n",
    "                      y='Mouse Count',\n",
    "                      autopct='%1.1f%%',\n",
    "                      explode=[0.1,0],\n",
    "                      figsize=(5, 5),\n",
    "                      colors=[\"skyblue\", \"pink\"],\n",
    "                      startangle=90,\n",
    "                      legend=False)\n",
    "\n",
    "# Adding title and ylabel to the plot \n",
    "ax.set_title(\"Mouse Gender Distribution\", fontsize=14)\n",
    "ax.set_ylabel(\" \")\n",
    "\n",
    "# Maintaining the circle shape\n",
    "plt.axis(\"equal\")\n",
    "# Print our chart to the screen\n",
    "plt.show()"
   ]
  },
  {
   "cell_type": "code",
   "execution_count": 13,
   "metadata": {
    "ExecuteTime": {
     "end_time": "2020-10-08T17:13:09.136227Z",
     "start_time": "2020-10-08T17:13:09.026280Z"
    }
   },
   "outputs": [
    {
     "data": {
      "image/png": "[encoded data removed]",
      "text/plain": [
       "<Figure size 360x360 with 1 Axes>"
      ]
     },
     "metadata": {},
     "output_type": "display_data"
    }
   ],
   "source": [
    "# Generate a pie plot showing the distribution of female versus male mice using pyplot\n",
    "\n",
    "# Labels for the sections of our pie chart\n",
    "labels = gender_data.index\n",
    "\n",
    "# Creating a list(Series) for values of each section of the pie chart\n",
    "gender_count = gender_data['Mouse Count']\n",
    "\n",
    "# Setting the figure size\n",
    "plt.figure(figsize=(5, 5))\n",
    "\n",
    "# Creating a pie plot based upon the gender_count list \n",
    "plt.pie(gender_count,\n",
    "        labels=labels,\n",
    "        autopct=\"%1.1f%%\",\n",
    "        explode=[0.1,0],\n",
    "        colors=[\"skyblue\", \"pink\"],\n",
    "        startangle=90)\n",
    "\n",
    "# Adding title\n",
    "plt.title(\"Mouse Gender Distribution\", fontsize=14)\n",
    "\n",
    "# Maintaining the circle shape\n",
    "plt.axis(\"equal\")\n",
    "# Print our chart to the screen\n",
    "plt.show()"
   ]
  },
  {
   "cell_type": "markdown",
   "metadata": {},
   "source": [
    "## Quartiles, Outliers and Boxplots"
   ]
  },
  {
   "cell_type": "code",
   "execution_count": 14,
   "metadata": {
    "ExecuteTime": {
     "end_time": "2020-10-08T17:13:09.213165Z",
     "start_time": "2020-10-08T17:13:09.138212Z"
    }
   },
   "outputs": [
    {
     "data": {
      "text/html": [
       "<div>\n",
       "<style scoped>\n",
       "    .dataframe tbody tr th:only-of-type {\n",
       "        vertical-align: middle;\n",
       "    }\n",
       "\n",
       "    .dataframe tbody tr th {\n",
       "        vertical-align: top;\n",
       "    }\n",
       "\n",
       "    .dataframe thead th {\n",
       "        text-align: right;\n",
       "    }\n",
       "</style>\n",
       "<table border=\"1\" class=\"dataframe\">\n",
       "  <thead>\n",
       "    <tr style=\"text-align: right;\">\n",
       "      <th></th>\n",
       "      <th>Mouse ID</th>\n",
       "      <th>Timepoint</th>\n",
       "      <th>Drug Regimen</th>\n",
       "      <th>Sex</th>\n",
       "      <th>Age_months</th>\n",
       "      <th>Weight (g)</th>\n",
       "      <th>Tumor Volume (mm3)</th>\n",
       "      <th>Metastatic Sites</th>\n",
       "    </tr>\n",
       "  </thead>\n",
       "  <tbody>\n",
       "    <tr>\n",
       "      <th>0</th>\n",
       "      <td>a203</td>\n",
       "      <td>45</td>\n",
       "      <td>Infubinol</td>\n",
       "      <td>Female</td>\n",
       "      <td>20</td>\n",
       "      <td>23</td>\n",
       "      <td>67.973419</td>\n",
       "      <td>2</td>\n",
       "    </tr>\n",
       "    <tr>\n",
       "      <th>1</th>\n",
       "      <td>a251</td>\n",
       "      <td>45</td>\n",
       "      <td>Infubinol</td>\n",
       "      <td>Female</td>\n",
       "      <td>21</td>\n",
       "      <td>25</td>\n",
       "      <td>65.525743</td>\n",
       "      <td>1</td>\n",
       "    </tr>\n",
       "    <tr>\n",
       "      <th>2</th>\n",
       "      <td>a262</td>\n",
       "      <td>45</td>\n",
       "      <td>Placebo</td>\n",
       "      <td>Female</td>\n",
       "      <td>17</td>\n",
       "      <td>29</td>\n",
       "      <td>70.717621</td>\n",
       "      <td>4</td>\n",
       "    </tr>\n",
       "    <tr>\n",
       "      <th>3</th>\n",
       "      <td>a275</td>\n",
       "      <td>45</td>\n",
       "      <td>Ceftamin</td>\n",
       "      <td>Female</td>\n",
       "      <td>20</td>\n",
       "      <td>28</td>\n",
       "      <td>62.999356</td>\n",
       "      <td>3</td>\n",
       "    </tr>\n",
       "    <tr>\n",
       "      <th>4</th>\n",
       "      <td>a366</td>\n",
       "      <td>30</td>\n",
       "      <td>Stelasyn</td>\n",
       "      <td>Female</td>\n",
       "      <td>16</td>\n",
       "      <td>29</td>\n",
       "      <td>63.440686</td>\n",
       "      <td>1</td>\n",
       "    </tr>\n",
       "    <tr>\n",
       "      <th>5</th>\n",
       "      <td>a401</td>\n",
       "      <td>45</td>\n",
       "      <td>Zoniferol</td>\n",
       "      <td>Female</td>\n",
       "      <td>8</td>\n",
       "      <td>25</td>\n",
       "      <td>66.794156</td>\n",
       "      <td>4</td>\n",
       "    </tr>\n",
       "    <tr>\n",
       "      <th>6</th>\n",
       "      <td>a411</td>\n",
       "      <td>45</td>\n",
       "      <td>Ramicane</td>\n",
       "      <td>Male</td>\n",
       "      <td>3</td>\n",
       "      <td>22</td>\n",
       "      <td>38.407618</td>\n",
       "      <td>1</td>\n",
       "    </tr>\n",
       "    <tr>\n",
       "      <th>7</th>\n",
       "      <td>a444</td>\n",
       "      <td>45</td>\n",
       "      <td>Ramicane</td>\n",
       "      <td>Female</td>\n",
       "      <td>10</td>\n",
       "      <td>25</td>\n",
       "      <td>43.047543</td>\n",
       "      <td>0</td>\n",
       "    </tr>\n",
       "    <tr>\n",
       "      <th>8</th>\n",
       "      <td>a457</td>\n",
       "      <td>10</td>\n",
       "      <td>Ketapril</td>\n",
       "      <td>Female</td>\n",
       "      <td>11</td>\n",
       "      <td>30</td>\n",
       "      <td>49.783419</td>\n",
       "      <td>0</td>\n",
       "    </tr>\n",
       "    <tr>\n",
       "      <th>9</th>\n",
       "      <td>a492</td>\n",
       "      <td>45</td>\n",
       "      <td>Stelasyn</td>\n",
       "      <td>Male</td>\n",
       "      <td>20</td>\n",
       "      <td>25</td>\n",
       "      <td>60.122011</td>\n",
       "      <td>1</td>\n",
       "    </tr>\n",
       "  </tbody>\n",
       "</table>\n",
       "</div>"
      ],
      "text/plain": [
       "  Mouse ID  Timepoint Drug Regimen     Sex  Age_months  Weight (g)  \\\n",
       "0     a203         45    Infubinol  Female          20          23   \n",
       "1     a251         45    Infubinol  Female          21          25   \n",
       "2     a262         45      Placebo  Female          17          29   \n",
       "3     a275         45     Ceftamin  Female          20          28   \n",
       "4     a366         30     Stelasyn  Female          16          29   \n",
       "5     a401         45    Zoniferol  Female           8          25   \n",
       "6     a411         45     Ramicane    Male           3          22   \n",
       "7     a444         45     Ramicane  Female          10          25   \n",
       "8     a457         10     Ketapril  Female          11          30   \n",
       "9     a492         45     Stelasyn    Male          20          25   \n",
       "\n",
       "   Tumor Volume (mm3)  Metastatic Sites  \n",
       "0           67.973419                 2  \n",
       "1           65.525743                 1  \n",
       "2           70.717621                 4  \n",
       "3           62.999356                 3  \n",
       "4           63.440686                 1  \n",
       "5           66.794156                 4  \n",
       "6           38.407618                 1  \n",
       "7           43.047543                 0  \n",
       "8           49.783419                 0  \n",
       "9           60.122011                 1  "
      ]
     },
     "execution_count": 14,
     "metadata": {},
     "output_type": "execute_result"
    }
   ],
   "source": [
    "# Calculate the final tumor volume of each mouse across four of the treatment regimens:  \n",
    "# Capomulin, Ramicane, Infubinol, and Ceftamin\n",
    "\n",
    "# Getting the last (greatest) timepoint for each mouse into a data frame\n",
    "volume_data = clean_data.groupby('Mouse ID')['Timepoint'].max().reset_index()\n",
    "\n",
    "# Merge this group df with the original data frame to get the tumor volume at the last timepoint\n",
    "volume_data = pd.merge(volume_data, clean_data, how='left', on=['Mouse ID','Timepoint'])\n",
    "volume_data.head(10)"
   ]
  },
  {
   "cell_type": "code",
   "execution_count": 15,
   "metadata": {
    "ExecuteTime": {
     "end_time": "2020-10-08T17:13:09.355905Z",
     "start_time": "2020-10-08T17:13:09.215164Z"
    }
   },
   "outputs": [],
   "source": [
    "# Putting treatments into a list for for loop (and later for plot labels)\n",
    "drug_regimen = ['Capomulin', 'Ramicane', 'Infubinol', 'Ceftamin']\n",
    "\n",
    "# Creating empty list to fill with tumor vol data (for plotting)\n",
    "treatment_lists = [ [] for _ in range(len(drug_regimen)) ]\n",
    "\n",
    "#  for loop to add each final tumor volumes into corresponding treatment list\n",
    "for index,row in volume_data.iterrows():\n",
    "    if (row['Drug Regimen'] in drug_regimen):\n",
    "        for i in range(len(drug_regimen)):\n",
    "            # Locating the rows which contain mice on each drug and get the tumor volumes\n",
    "            if (row['Drug Regimen'] == drug_regimen[i]):\n",
    "                treatment_lists[i].append(row['Tumor Volume (mm3)'])\n",
    "                break\n"
   ]
  },
  {
   "cell_type": "code",
   "execution_count": 16,
   "metadata": {
    "ExecuteTime": {
     "end_time": "2020-10-08T17:13:09.604732Z",
     "start_time": "2020-10-08T17:13:09.357896Z"
    }
   },
   "outputs": [],
   "source": [
    "# Calculate the IQR and quantitatively determine if there are any potential outliers. \n",
    "\n",
    "# Defining a function to Calculate and Display Quartiles and Outlier Bounds\n",
    "def print_quartiles_outliers(treatment_list, drug_regimen):\n",
    "    #Calculating Quartiles\n",
    "    treatment = pd.Series(treatment_list)\n",
    "    quartiles = treatment.quantile([.25,.5,.75])\n",
    "    lowerq = quartiles[0.25]\n",
    "    upperq = quartiles[0.75]\n",
    "    iqr = upperq-lowerq\n",
    "    \n",
    "    print(f\"\\n------------ {drug_regimen} ------------\")\n",
    "    # Displaying Quartiles\n",
    "    print(f\"The lower quartile for final Tumor Volume is: {lowerq}\")\n",
    "    print(f\"The upper quartile for final Tumor Volume is: {upperq}\")\n",
    "    print(f\"The interquartile range is: {iqr}\")\n",
    "    print(f\"The the median for final Tumor Volume is: {quartiles[0.5]}\\n\")\n",
    "\n",
    "    # Calculating upper and lower bounds for Outlier detection\n",
    "    lower_bound = lowerq - (1.5*iqr)\n",
    "    upper_bound = upperq + (1.5*iqr)\n",
    "    # Displaying Outlier bounds \n",
    "    print(f\"Tumor Volume below {lower_bound} could be outliers.\")\n",
    "    print(f\"Tumor Volume {upper_bound} could be outliers.\")\n",
    "      \n",
    "    # Finding any Outliers using list comprehension\n",
    "    outliers = [i for i in treatment_list if ((i > upper_bound) | (i < lower_bound))]\n",
    "    print(f\"\\n\\tNumber of Outliers: {len(outliers)}\\n\")\n"
   ]
  },
  {
   "cell_type": "code",
   "execution_count": 17,
   "metadata": {
    "ExecuteTime": {
     "end_time": "2020-10-08T17:13:10.086219Z",
     "start_time": "2020-10-08T17:13:09.605722Z"
    }
   },
   "outputs": [
    {
     "name": "stdout",
     "output_type": "stream",
     "text": [
      "\n",
      "------------ Capomulin ------------\n",
      "The lower quartile for final Tumor Volume is: 32.37735684\n",
      "The upper quartile for final Tumor Volume is: 40.1592203\n",
      "The interquartile range is: 7.781863460000004\n",
      "The the median for final Tumor Volume is: 38.125164399999996\n",
      "\n",
      "Tumor Volume below 20.70456164999999 could be outliers.\n",
      "Tumor Volume 51.83201549 could be outliers.\n",
      "\n",
      "\tNumber of Outliers: 0\n",
      "\n",
      "\n",
      "------------ Ramicane ------------\n",
      "The lower quartile for final Tumor Volume is: 31.56046955\n",
      "The upper quartile for final Tumor Volume is: 40.65900627\n",
      "The interquartile range is: 9.098536719999998\n",
      "The the median for final Tumor Volume is: 36.56165229\n",
      "\n",
      "Tumor Volume below 17.912664470000003 could be outliers.\n",
      "Tumor Volume 54.30681135 could be outliers.\n",
      "\n",
      "\tNumber of Outliers: 0\n",
      "\n",
      "\n",
      "------------ Infubinol ------------\n",
      "The lower quartile for final Tumor Volume is: 54.04860769\n",
      "The upper quartile for final Tumor Volume is: 65.52574285\n",
      "The interquartile range is: 11.477135160000003\n",
      "The the median for final Tumor Volume is: 60.16518046\n",
      "\n",
      "Tumor Volume below 36.83290494999999 could be outliers.\n",
      "Tumor Volume 82.74144559000001 could be outliers.\n",
      "\n",
      "\tNumber of Outliers: 1\n",
      "\n",
      "\n",
      "------------ Ceftamin ------------\n",
      "The lower quartile for final Tumor Volume is: 48.72207785\n",
      "The upper quartile for final Tumor Volume is: 64.29983003\n",
      "The interquartile range is: 15.577752179999997\n",
      "The the median for final Tumor Volume is: 59.85195552\n",
      "\n",
      "Tumor Volume below 25.355449580000002 could be outliers.\n",
      "Tumor Volume 87.66645829999999 could be outliers.\n",
      "\n",
      "\tNumber of Outliers: 0\n",
      "\n"
     ]
    }
   ],
   "source": [
    "# Calling quartiles and outliers function for each Treatment\n",
    "for i in range(len(drug_regimen)):\n",
    "    print_quartiles_outliers(treatment_lists[i], drug_regimen[i])\n"
   ]
  },
  {
   "cell_type": "code",
   "execution_count": 18,
   "metadata": {
    "ExecuteTime": {
     "end_time": "2020-10-08T17:13:10.429963Z",
     "start_time": "2020-10-08T17:13:10.088223Z"
    }
   },
   "outputs": [
    {
     "data": {
      "image/png": "[encoded data removed]",
      "text/plain": [
       "<Figure size 720x432 with 1 Axes>"
      ]
     },
     "metadata": {
      "needs_background": "light"
     },
     "output_type": "display_data"
    }
   ],
   "source": [
    "# Generate a box plot of the final tumor volume of each mouse across four regimens of interest\n",
    "\n",
    "# Setting the figure size\n",
    "fig, ax = plt.subplots(figsize=(10, 6))\n",
    "\n",
    "# Adding title, labels and ylim to the plot \n",
    "ax.set_title('Final Tumor Volumes for each Treatment', fontsize=14)\n",
    "ax.set_ylabel('Tumor Volume (mm3)')\n",
    "ax.set_xlabel('Drug Regimen')\n",
    "ax.set_ylim(18,80)\n",
    "\n",
    "# Defining styles for the fliers(Outlier markings)\n",
    "flierprops = dict(marker='X', markerfacecolor='r', markersize=8)\n",
    "\n",
    "# Creating a box plot based upon the treatment_lists (a list of lists) and a list of drug regimen\n",
    "ax.boxplot(treatment_lists,\n",
    "           labels=drug_regimen, \n",
    "           flierprops=flierprops\n",
    "          )\n",
    "\n",
    "# Adding grid lines across y axis to the chart\n",
    "ax.yaxis.grid(color=\"grey\", alpha=0.25)\n",
    "\n",
    "# Print our chart to the screen\n",
    "plt.show()"
   ]
  },
  {
   "cell_type": "markdown",
   "metadata": {},
   "source": [
    "## Line and Scatter Plots"
   ]
  },
  {
   "cell_type": "code",
   "execution_count": 19,
   "metadata": {
    "ExecuteTime": {
     "end_time": "2020-10-08T17:13:10.711274Z",
     "start_time": "2020-10-08T17:13:10.431963Z"
    }
   },
   "outputs": [
    {
     "data": {
      "image/png": "[encoded data removed]",
      "text/plain": [
       "<Figure size 576x432 with 1 Axes>"
      ]
     },
     "metadata": {
      "needs_background": "light"
     },
     "output_type": "display_data"
    }
   ],
   "source": [
    "# Generate a line plot of time point versus tumor volume for a mouse treated with Capomulin\n",
    "\n",
    "# Selecting a mouse that was treated with Capomulin\n",
    "Mouse_ID = 's185'\n",
    "\n",
    "# Creating a Data Frame of Timepoint and Tumor Volume for a mouse treated with Capomulin\n",
    "capomulin_time_volume = clean_data.loc[(clean_data['Drug Regimen'] == 'Capomulin') & (clean_data['Mouse ID'] == Mouse_ID),\n",
    "                                       ['Timepoint', 'Tumor Volume (mm3)']\n",
    "                                      ].reset_index(drop=True) \\\n",
    "                                       .set_index('Timepoint')\n",
    "\n",
    "# Creating a line plot from the Data Frame\n",
    "ax = capomulin_time_volume.plot(figsize=(8, 6),\n",
    "                                title=\"Tumor volume for Mouse \" + Mouse_ID + \" treated with Capomulin\\n\",\n",
    "                                linewidth=2,\n",
    "                                color='green',\n",
    "                                legend=False)\n",
    "\n",
    "# Adding ylabel and axis limits to the plot \n",
    "ax.set_ylabel(\"Tumor Volume (mm3)\")\n",
    "ax.set_xlim(0, 45)\n",
    "ax.set_ylim(20, 50)\n",
    "\n",
    "# Adding grid lines to the chart\n",
    "ax.grid(alpha=0.5, color='grey', linewidth=0.25)\n",
    "\n",
    "# Removing the top and right spines\n",
    "ax.spines['right'].set_visible(False) \n",
    "ax.spines['top'].set_visible(False)\n",
    "\n",
    "# Print our chart to the screen\n",
    "plt.show()"
   ]
  },
  {
   "cell_type": "code",
   "execution_count": 20,
   "metadata": {
    "ExecuteTime": {
     "end_time": "2020-10-08T17:13:10.931155Z",
     "start_time": "2020-10-08T17:13:10.712274Z"
    }
   },
   "outputs": [
    {
     "data": {
      "image/png": "[encoded data removed]",
      "text/plain": [
       "<Figure size 576x432 with 1 Axes>"
      ]
     },
     "metadata": {
      "needs_background": "light"
     },
     "output_type": "display_data"
    }
   ],
   "source": [
    "# Generate a scatter plot of mouse weight versus average tumor volume for the Capomulin regimen\n",
    "\n",
    "# Creating a Data Frame with Capomulin regimen alone\n",
    "capomulin_data = clean_data.loc[(clean_data['Drug Regimen'] == 'Capomulin')]\n",
    "\n",
    "# Calculating Average Tumor Volume by Grouping by the Mouse ID and Weight\n",
    "capomulin_weight_volume = pd.DataFrame(capomulin_data.groupby(['Mouse ID','Weight (g)'])['Tumor Volume (mm3)'].mean()).reset_index()\n",
    "\n",
    "# Renaming column Tumor Volume (mm3) to Average Tumor Volume (mm3)\n",
    "capomulin_weight_volume = capomulin_weight_volume.rename(columns={\"Tumor Volume (mm3)\": \"Average Volume (mm3)\"})\n",
    "\n",
    "# Setting column Mouse ID as index\n",
    "capomulin_weight_volume.set_index('Mouse ID')\n",
    "\n",
    "# Creating a line plot from the Data Frame\n",
    "ax = capomulin_weight_volume.plot(kind=\"scatter\",\n",
    "                             x=\"Weight (g)\",\n",
    "                             y=\"Average Volume (mm3)\",\n",
    "                             title=\"Mouse Weight vs Average Tumor Volume for the Capomulin Regimen\\n\",\n",
    "                             figsize=(8,6),\n",
    "                             color='darkblue')\n",
    "\n",
    "# Removing the top and right spines\n",
    "ax.spines['right'].set_visible(False) \n",
    "ax.spines['top'].set_visible(False)\n",
    "\n",
    "# Adding grid lines to the chart\n",
    "ax.grid(color='grey', linewidth=0.25, alpha=0.8)\n",
    "\n",
    "# Print our chart to the screen\n",
    "plt.show()"
   ]
  },
  {
   "cell_type": "markdown",
   "metadata": {},
   "source": [
    "## Correlation and Regression"
   ]
  },
  {
   "cell_type": "code",
   "execution_count": 21,
   "metadata": {
    "ExecuteTime": {
     "end_time": "2020-10-08T17:13:11.232145Z",
     "start_time": "2020-10-08T17:13:10.933138Z"
    }
   },
   "outputs": [
    {
     "name": "stdout",
     "output_type": "stream",
     "text": [
      "\n",
      "The correlation between both factors is 0.84\n",
      "The r-squared is: 0.7089\n",
      "\n"
     ]
    },
    {
     "data": {
      "image/png": "[encoded data removed]",
      "text/plain": [
       "<Figure size 576x432 with 1 Axes>"
      ]
     },
     "metadata": {
      "needs_background": "light"
     },
     "output_type": "display_data"
    }
   ],
   "source": [
    "# Calculate the correlation coefficient and linear regression model \n",
    "# for mouse weight and average tumor volume for the Capomulin regimen\n",
    "\n",
    "# Setting Weight and Average Volume into x and y value lists\n",
    "x_values = capomulin_weight_volume['Weight (g)']\n",
    "y_values = capomulin_weight_volume['Average Volume (mm3)']\n",
    "\n",
    "# Calculating and Printing Pearson correlation coefficient \n",
    "correlation = st.pearsonr(x_values, y_values)\n",
    "print(f\"\\nThe correlation between both factors is {round(correlation[0],2)}\")\n",
    "\n",
    "\n",
    "# Print out the r-squared value along with the plot.\n",
    "\n",
    "# Setting the figure size\n",
    "fig = plt.figure(figsize=(8,6))\n",
    "\n",
    "# Creating subplot (1x1 grid, 1st subplot)\n",
    "ax = fig.add_subplot(1,1,1)\n",
    "\n",
    "# Adding grid lines to the chart\n",
    "ax.grid(alpha=0.8, color='grey', linewidth=0.25)\n",
    "\n",
    "# Removing the top and right spines\n",
    "plt.rcParams['axes.spines.right'] = False\n",
    "plt.rcParams['axes.spines.top'] = False\n",
    "\n",
    "# Finding slope and y intercept of line, r value, p value and standard error using scipy.stats.linregress function\n",
    "(slope, intercept, rvalue, pvalue, stderr) = st.linregress(x_values, y_values)\n",
    "\n",
    "# Print the r square value\n",
    "print(f\"The r-squared is: {round(rvalue**2, 4)}\\n\")\n",
    "\n",
    "# Line equation y=mx+b\n",
    "regress_values = slope * x_values + intercept\n",
    "\n",
    "# Line equation string y=mx+b to diplay\n",
    "line_eq = \"y = \" + str(round(slope,2)) + \"x + \" + str(round(intercept,2))\n",
    "\n",
    "# Creating a scatter plot of Weight and Average Tumor volume\n",
    "plt.scatter(x_values, y_values, color='darkblue', s=18)\n",
    "\n",
    "# Creating a line plot\n",
    "plt.plot(x_values, regress_values, \"r-\")\n",
    "\n",
    "# Adding line_eq string at specified position\n",
    "plt.annotate(line_eq,(18.5,38),fontsize=14,color=\"red\")\n",
    "\n",
    "# Adding title and labels to the plot \n",
    "plt.title(\"Mouse Weight vs Average Tumor Volume for the Capomulin Regimen\\n\")\n",
    "plt.xlabel('Weight (g)')\n",
    "plt.ylabel('Average Volume (mm3)')\n",
    "\n",
    "# Print our chart to the screen\n",
    "plt.show()"
   ]
  },
  {
   "cell_type": "code",
   "execution_count": null,
   "metadata": {},
   "outputs": [],
   "source": []
  }
 ],
 "metadata": {
  "anaconda-cloud": {},
  "kernelspec": {
   "display_name": "Python 3",
   "language": "python",
   "name": "python3"
  },
  "language_info": {
   "codemirror_mode": {
    "name": "ipython",
    "version": 3
   },
   "file_extension": ".py",
   "mimetype": "text/x-python",
   "name": "python",
   "nbconvert_exporter": "python",
   "pygments_lexer": "ipython3",
   "version": "3.8.3"
  }
 },
 "nbformat": 4,
 "nbformat_minor": 2
}
